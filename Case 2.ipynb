{
 "cells": [
  {
   "cell_type": "code",
   "execution_count": 1,
   "metadata": {},
   "outputs": [],
   "source": [
    "from pyspark.sql import SparkSession\n",
    "from pyspark.sql.functions import when\n",
    "from pyspark.ml.feature import VectorAssembler\n",
    "from pyspark.ml.feature import StandardScaler\n",
    "from pyspark.ml.classification import LogisticRegression\n",
    "from pyspark.ml.evaluation import BinaryClassificationEvaluator"
   ]
  },
  {
   "cell_type": "code",
   "execution_count": 2,
   "metadata": {},
   "outputs": [],
   "source": [
    "spark=SparkSession.builder.getOrCreate()"
   ]
  },
  {
   "cell_type": "code",
   "execution_count": 3,
   "metadata": {},
   "outputs": [],
   "source": [
    "#Load dataset\n",
    "train_data = spark.read.option(\"inferSchema\",\"true\").csv(\"Classification/Planet_Training.csv\",header=True)\n",
    "#drop NA\n",
    "train_data = train_data.select(\"Temperature\",\"Water\",\"Atmosphere Color\",\"Habitable\")\n",
    "train_data = train_data.na.drop()"
   ]
  },
  {
   "cell_type": "code",
   "execution_count": 4,
   "metadata": {},
   "outputs": [],
   "source": [
    "#load dataset\n",
    "test_data = spark.read.option(\"inferSchema\",\"true\").csv(\"Classification/Planet_Testing.csv\",header=True)\n",
    "#drop NA\n",
    "test_data  = test_data.select(\"Temperature\",\"Water\",\"Atmosphere Color\",\"Habitable\")\n",
    "test_data = test_data.na.drop()"
   ]
  },
  {
   "cell_type": "code",
   "execution_count": 5,
   "metadata": {},
   "outputs": [
    {
     "name": "stdout",
     "output_type": "stream",
     "text": [
      "+-----------+------+----------------+---------+\n",
      "|Temperature| Water|Atmosphere Color|Habitable|\n",
      "+-----------+------+----------------+---------+\n",
      "|     323488|Medium|          Yellow|        1|\n",
      "|     319279|   Low|          Yellow|        1|\n",
      "|     315375|   Low|          Yellow|        1|\n",
      "|     302312|Medium|          Yellow|        1|\n",
      "|     329687|   Low|          Yellow|        1|\n",
      "|     265746|  High|             Red|        0|\n",
      "|     305214|  High|          Yellow|        1|\n",
      "|     299936|  High|          Yellow|        0|\n",
      "|     269577|Medium|             Red|        1|\n",
      "|     303631|  High|             Red|        0|\n",
      "|     290051|  High|             Red|        0|\n",
      "|     306122|   Low|          Yellow|        1|\n",
      "|     300635|   Low|          Yellow|        1|\n",
      "|     312152|  High|            Blue|        0|\n",
      "|     265942|Medium|            Blue|        0|\n",
      "|     307368|  High|             Red|        0|\n",
      "|     276274|Medium|          Yellow|        1|\n",
      "|     308531|Medium|          Yellow|        1|\n",
      "|     329561|   Low|          Yellow|        1|\n",
      "|     327860|Medium|          Yellow|        1|\n",
      "+-----------+------+----------------+---------+\n",
      "only showing top 20 rows\n",
      "\n"
     ]
    }
   ],
   "source": [
    "train_data.show()"
   ]
  },
  {
   "cell_type": "code",
   "execution_count": 6,
   "metadata": {},
   "outputs": [],
   "source": [
    "def transform_data(data):\n",
    "    data = data.withColumn(\"Water\", when(data[\"Water\"]==\"High\",2).when(data[\"Water\"]==\"Medium\",1).otherwise(0))\n",
    "    data = data.withColumn(\"Atmosphere Color\", when(data[\"Atmosphere Color\"]==\"Red\",0).when(data[\"Atmosphere Color\"]==\"Blue\",1).otherwise(2))\n",
    "    \n",
    "    cols = data.columns\n",
    "    cols.remove(\"Habitable\")\n",
    "    \n",
    "    data = VectorAssembler(inputCols = cols,outputCol = \"Features\").transform(data)\n",
    "    \n",
    "\n",
    "    scaler = StandardScaler(inputCol = \"Features\",outputCol = \"Scaled_Features\")\n",
    "    data = scaler.fit(data).transform(data)\n",
    "    \n",
    "    return data"
   ]
  },
  {
   "cell_type": "code",
   "execution_count": 7,
   "metadata": {},
   "outputs": [
    {
     "name": "stdout",
     "output_type": "stream",
     "text": [
      "+-----------+-----+----------------+---------+------------------+--------------------+\n",
      "|Temperature|Water|Atmosphere Color|Habitable|          Features|     Scaled_Features|\n",
      "+-----------+-----+----------------+---------+------------------+--------------------+\n",
      "|     325145|    2|               2|        1|[325145.0,2.0,2.0]|[16.6313339613367...|\n",
      "|     269079|    1|               0|        0|[269079.0,1.0,0.0]|[13.7635292284443...|\n",
      "|     302996|    2|               2|        1|[302996.0,2.0,2.0]|[15.4984012208374...|\n",
      "|     312604|    2|               2|        1|[312604.0,2.0,2.0]|[15.9898553619146...|\n",
      "|     280875|    0|               2|        1|[280875.0,0.0,2.0]|[14.3669006947376...|\n",
      "|     306384|    2|               0|        0|[306384.0,2.0,0.0]|[15.6716991631740...|\n",
      "|     303007|    2|               2|        1|[303007.0,2.0,2.0]|[15.4989638764944...|\n",
      "|     297965|    2|               0|        0|[297965.0,2.0,0.0]|[15.2410629835603...|\n",
      "|     290305|    2|               1|        0|[290305.0,2.0,1.0]|[14.8492500442752...|\n",
      "|     316596|    2|               0|        0|[316596.0,2.0,0.0]|[16.1940482148683...|\n",
      "|     266840|    0|               2|        1|[266840.0,0.0,2.0]|[13.6490032270005...|\n",
      "|     324187|    0|               2|        1|[324187.0,0.0,2.0]|[16.5823317686690...|\n",
      "|     327198|    0|               2|        1|[327198.0,0.0,2.0]|[16.7363459671268...|\n",
      "|     310018|    2|               2|        0|[310018.0,2.0,2.0]|[15.8575801320202...|\n",
      "|     302718|    2|               1|        1|[302718.0,2.0,1.0]|[15.4841813778712...|\n",
      "|     301697|    0|               2|        1|[301697.0,0.0,2.0]|[15.4319567028046...|\n",
      "|     316071|    1|               2|        1|[316071.0,1.0,2.0]|[16.1671941948782...|\n",
      "|     271765|    0|               2|        1|[271765.0,0.0,2.0]|[13.9009195097654...|\n",
      "|     269497|    2|               1|        0|[269497.0,2.0,1.0]|[13.7849101434079...|\n",
      "|     311830|    2|               0|        0|[311830.0,2.0,0.0]|[15.9502648638719...|\n",
      "+-----------+-----+----------------+---------+------------------+--------------------+\n",
      "only showing top 20 rows\n",
      "\n"
     ]
    }
   ],
   "source": [
    "test_data = transform_data(test_data)\n",
    "test_data.show()"
   ]
  },
  {
   "cell_type": "code",
   "execution_count": 10,
   "metadata": {},
   "outputs": [],
   "source": [
    "train_data=transform_data(train_data)"
   ]
  },
  {
   "cell_type": "code",
   "execution_count": 11,
   "metadata": {},
   "outputs": [],
   "source": [
    "model = LogisticRegression(featuresCol = \"Scaled_Features\", labelCol = \"Habitable\", maxIter=10).fit(train_data)\n",
    "\n",
    "prediction = model.transform(test_data)"
   ]
  },
  {
   "cell_type": "code",
   "execution_count": 12,
   "metadata": {},
   "outputs": [
    {
     "name": "stdout",
     "output_type": "stream",
     "text": [
      "Accuracy 91.71043337232418\n"
     ]
    }
   ],
   "source": [
    "eval = BinaryClassificationEvaluator(labelCol=\"Habitable\")\n",
    "\n",
    "acc=eval.evaluate(prediction)\n",
    "print(\"Accuracy\",acc*100)"
   ]
  },
  {
   "cell_type": "code",
   "execution_count": null,
   "metadata": {},
   "outputs": [],
   "source": []
  }
 ],
 "metadata": {
  "kernelspec": {
   "display_name": "Python 3",
   "language": "python",
   "name": "python3"
  },
  "language_info": {
   "codemirror_mode": {
    "name": "ipython",
    "version": 3
   },
   "file_extension": ".py",
   "mimetype": "text/x-python",
   "name": "python",
   "nbconvert_exporter": "python",
   "pygments_lexer": "ipython3",
   "version": "3.7.7"
  }
 },
 "nbformat": 4,
 "nbformat_minor": 4
}
